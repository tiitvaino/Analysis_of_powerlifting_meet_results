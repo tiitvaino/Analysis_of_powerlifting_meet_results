{
 "cells": [
  {
   "cell_type": "code",
   "execution_count": 1,
   "metadata": {},
   "outputs": [],
   "source": [
    "import numpy as np\n",
    "import pandas as pd\n",
    "import datetime\n",
    "%matplotlib inline"
   ]
  },
  {
   "cell_type": "code",
   "execution_count": 2,
   "metadata": {},
   "outputs": [
    {
     "name": "stderr",
     "output_type": "stream",
     "text": [
      "C:\\Users\\tvaino\\Anaconda3\\lib\\site-packages\\IPython\\core\\interactiveshell.py:3071: DtypeWarning: Columns (35) have mixed types.Specify dtype option on import or set low_memory=False.\n",
      "  has_raised = await self.run_ast_nodes(code_ast.body, cell_name,\n"
     ]
    }
   ],
   "source": [
    "df = pd.read_csv(\"Data/openpowerlifting.csv\")"
   ]
  },
  {
   "cell_type": "code",
   "execution_count": 81,
   "metadata": {},
   "outputs": [],
   "source": [
    "#Remove unnecessary columns\n",
    "da = df[['Name', 'Sex', 'Event', 'Equipment', 'Age', 'Wilks', 'Tested', 'Date']]\n",
    "\n"
   ]
  },
  {
   "cell_type": "code",
   "execution_count": 82,
   "metadata": {},
   "outputs": [
    {
     "name": "stderr",
     "output_type": "stream",
     "text": [
      "<ipython-input-82-479747ad4687>:2: SettingWithCopyWarning: \n",
      "A value is trying to be set on a copy of a slice from a DataFrame.\n",
      "Try using .loc[row_indexer,col_indexer] = value instead\n",
      "\n",
      "See the caveats in the documentation: https://pandas.pydata.org/pandas-docs/stable/user_guide/indexing.html#returning-a-view-versus-a-copy\n",
      "  da['Tested'] = da['Tested'].replace(np.nan,0)\n",
      "<ipython-input-82-479747ad4687>:3: SettingWithCopyWarning: \n",
      "A value is trying to be set on a copy of a slice from a DataFrame.\n",
      "Try using .loc[row_indexer,col_indexer] = value instead\n",
      "\n",
      "See the caveats in the documentation: https://pandas.pydata.org/pandas-docs/stable/user_guide/indexing.html#returning-a-view-versus-a-copy\n",
      "  da['Tested'] = da['Tested'].replace('Yes',1)\n",
      "<ipython-input-82-479747ad4687>:4: SettingWithCopyWarning: \n",
      "A value is trying to be set on a copy of a slice from a DataFrame.\n",
      "Try using .loc[row_indexer,col_indexer] = value instead\n",
      "\n",
      "See the caveats in the documentation: https://pandas.pydata.org/pandas-docs/stable/user_guide/indexing.html#returning-a-view-versus-a-copy\n",
      "  da['Sex'] = da['Sex'].replace('M',0)\n",
      "<ipython-input-82-479747ad4687>:5: SettingWithCopyWarning: \n",
      "A value is trying to be set on a copy of a slice from a DataFrame.\n",
      "Try using .loc[row_indexer,col_indexer] = value instead\n",
      "\n",
      "See the caveats in the documentation: https://pandas.pydata.org/pandas-docs/stable/user_guide/indexing.html#returning-a-view-versus-a-copy\n",
      "  da['Sex'] = da['Sex'].replace('F',1)\n"
     ]
    }
   ],
   "source": [
    "# Changing column tested nan rows to no\n",
    "da['Tested'] = da['Tested'].replace(np.nan,0)\n",
    "da['Tested'] = da['Tested'].replace('Yes',1)\n",
    "da['Sex'] = da['Sex'].replace('M',0)\n",
    "da['Sex'] = da['Sex'].replace('F',1)"
   ]
  },
  {
   "cell_type": "code",
   "execution_count": 83,
   "metadata": {},
   "outputs": [],
   "source": [
    "# Rows where event is not SBD will be dropped\n",
    "da = da[da.Event=='SBD']"
   ]
  },
  {
   "cell_type": "code",
   "execution_count": 84,
   "metadata": {},
   "outputs": [],
   "source": [
    "#Drop rows where age is nan\n",
    "da = da.dropna(how='any', subset=['Name','Sex', 'Equipment', 'Age', 'Wilks', 'Date'])"
   ]
  },
  {
   "cell_type": "code",
   "execution_count": 85,
   "metadata": {},
   "outputs": [],
   "source": [
    "da['Equipment'] = da['Equipment'].replace('Raw',0)\n",
    "da['Equipment'] = da['Equipment'].replace('Single-ply',1)\n",
    "da = da[(da['Equipment']==1) | (da['Equipment']==0)]"
   ]
  },
  {
   "cell_type": "code",
   "execution_count": 86,
   "metadata": {},
   "outputs": [],
   "source": [
    "#Adding column with approximate date of birth\n",
    "da['BirthYear'] = da.apply(lambda row: int(str(row.Date)[:4]) - (row.Age), axis = 1)"
   ]
  },
  {
   "cell_type": "code",
   "execution_count": 87,
   "metadata": {},
   "outputs": [
    {
     "data": {
      "text/html": [
       "<div>\n",
       "<style scoped>\n",
       "    .dataframe tbody tr th:only-of-type {\n",
       "        vertical-align: middle;\n",
       "    }\n",
       "\n",
       "    .dataframe tbody tr th {\n",
       "        vertical-align: top;\n",
       "    }\n",
       "\n",
       "    .dataframe thead th {\n",
       "        text-align: right;\n",
       "    }\n",
       "</style>\n",
       "<table border=\"1\" class=\"dataframe\">\n",
       "  <thead>\n",
       "    <tr style=\"text-align: right;\">\n",
       "      <th></th>\n",
       "      <th>Name</th>\n",
       "      <th>Sex</th>\n",
       "      <th>Event</th>\n",
       "      <th>Equipment</th>\n",
       "      <th>Age</th>\n",
       "      <th>Wilks</th>\n",
       "      <th>Tested</th>\n",
       "      <th>Date</th>\n",
       "      <th>BirthYear</th>\n",
       "    </tr>\n",
       "  </thead>\n",
       "  <tbody>\n",
       "    <tr>\n",
       "      <th>11</th>\n",
       "      <td>Christina Tsatsoulis</td>\n",
       "      <td>1</td>\n",
       "      <td>SBD</td>\n",
       "      <td>0</td>\n",
       "      <td>27.0</td>\n",
       "      <td>333.24</td>\n",
       "      <td>0</td>\n",
       "      <td>2018-10-27</td>\n",
       "      <td>1991.0</td>\n",
       "    </tr>\n",
       "    <tr>\n",
       "      <th>14</th>\n",
       "      <td>Elizabeth Ciortuz</td>\n",
       "      <td>1</td>\n",
       "      <td>SBD</td>\n",
       "      <td>0</td>\n",
       "      <td>19.0</td>\n",
       "      <td>290.95</td>\n",
       "      <td>0</td>\n",
       "      <td>2018-10-27</td>\n",
       "      <td>1999.0</td>\n",
       "    </tr>\n",
       "    <tr>\n",
       "      <th>19</th>\n",
       "      <td>Jasmine Hoare</td>\n",
       "      <td>1</td>\n",
       "      <td>SBD</td>\n",
       "      <td>0</td>\n",
       "      <td>31.0</td>\n",
       "      <td>353.56</td>\n",
       "      <td>0</td>\n",
       "      <td>2018-10-27</td>\n",
       "      <td>1987.0</td>\n",
       "    </tr>\n",
       "    <tr>\n",
       "      <th>21</th>\n",
       "      <td>Joelle Savgy</td>\n",
       "      <td>1</td>\n",
       "      <td>SBD</td>\n",
       "      <td>0</td>\n",
       "      <td>29.0</td>\n",
       "      <td>294.98</td>\n",
       "      <td>0</td>\n",
       "      <td>2018-10-27</td>\n",
       "      <td>1989.0</td>\n",
       "    </tr>\n",
       "    <tr>\n",
       "      <th>31</th>\n",
       "      <td>Nicole Brown</td>\n",
       "      <td>1</td>\n",
       "      <td>SBD</td>\n",
       "      <td>0</td>\n",
       "      <td>28.0</td>\n",
       "      <td>284.47</td>\n",
       "      <td>0</td>\n",
       "      <td>2018-10-27</td>\n",
       "      <td>1990.0</td>\n",
       "    </tr>\n",
       "    <tr>\n",
       "      <th>...</th>\n",
       "      <td>...</td>\n",
       "      <td>...</td>\n",
       "      <td>...</td>\n",
       "      <td>...</td>\n",
       "      <td>...</td>\n",
       "      <td>...</td>\n",
       "      <td>...</td>\n",
       "      <td>...</td>\n",
       "      <td>...</td>\n",
       "    </tr>\n",
       "    <tr>\n",
       "      <th>1423347</th>\n",
       "      <td>Adam Jasiński</td>\n",
       "      <td>0</td>\n",
       "      <td>SBD</td>\n",
       "      <td>0</td>\n",
       "      <td>65.5</td>\n",
       "      <td>372.98</td>\n",
       "      <td>1</td>\n",
       "      <td>2017-04-01</td>\n",
       "      <td>1951.5</td>\n",
       "    </tr>\n",
       "    <tr>\n",
       "      <th>1423348</th>\n",
       "      <td>Włodzimierz Żmijewski</td>\n",
       "      <td>0</td>\n",
       "      <td>SBD</td>\n",
       "      <td>0</td>\n",
       "      <td>67.5</td>\n",
       "      <td>367.91</td>\n",
       "      <td>1</td>\n",
       "      <td>2017-04-01</td>\n",
       "      <td>1949.5</td>\n",
       "    </tr>\n",
       "    <tr>\n",
       "      <th>1423349</th>\n",
       "      <td>Marian Cafalik</td>\n",
       "      <td>0</td>\n",
       "      <td>SBD</td>\n",
       "      <td>0</td>\n",
       "      <td>60.5</td>\n",
       "      <td>327.07</td>\n",
       "      <td>1</td>\n",
       "      <td>2017-04-01</td>\n",
       "      <td>1956.5</td>\n",
       "    </tr>\n",
       "    <tr>\n",
       "      <th>1423350</th>\n",
       "      <td>Marian Piwowarczyk</td>\n",
       "      <td>0</td>\n",
       "      <td>SBD</td>\n",
       "      <td>0</td>\n",
       "      <td>55.5</td>\n",
       "      <td>304.16</td>\n",
       "      <td>1</td>\n",
       "      <td>2017-04-01</td>\n",
       "      <td>1961.5</td>\n",
       "    </tr>\n",
       "    <tr>\n",
       "      <th>1423351</th>\n",
       "      <td>Andrzej Bryniarski</td>\n",
       "      <td>0</td>\n",
       "      <td>SBD</td>\n",
       "      <td>0</td>\n",
       "      <td>62.5</td>\n",
       "      <td>274.48</td>\n",
       "      <td>1</td>\n",
       "      <td>2017-04-01</td>\n",
       "      <td>1954.5</td>\n",
       "    </tr>\n",
       "  </tbody>\n",
       "</table>\n",
       "<p>376952 rows × 9 columns</p>\n",
       "</div>"
      ],
      "text/plain": [
       "                          Name  Sex Event Equipment   Age   Wilks  Tested  \\\n",
       "11        Christina Tsatsoulis    1   SBD         0  27.0  333.24       0   \n",
       "14           Elizabeth Ciortuz    1   SBD         0  19.0  290.95       0   \n",
       "19               Jasmine Hoare    1   SBD         0  31.0  353.56       0   \n",
       "21                Joelle Savgy    1   SBD         0  29.0  294.98       0   \n",
       "31                Nicole Brown    1   SBD         0  28.0  284.47       0   \n",
       "...                        ...  ...   ...       ...   ...     ...     ...   \n",
       "1423347          Adam Jasiński    0   SBD         0  65.5  372.98       1   \n",
       "1423348  Włodzimierz Żmijewski    0   SBD         0  67.5  367.91       1   \n",
       "1423349         Marian Cafalik    0   SBD         0  60.5  327.07       1   \n",
       "1423350     Marian Piwowarczyk    0   SBD         0  55.5  304.16       1   \n",
       "1423351     Andrzej Bryniarski    0   SBD         0  62.5  274.48       1   \n",
       "\n",
       "               Date  BirthYear  \n",
       "11       2018-10-27     1991.0  \n",
       "14       2018-10-27     1999.0  \n",
       "19       2018-10-27     1987.0  \n",
       "21       2018-10-27     1989.0  \n",
       "31       2018-10-27     1990.0  \n",
       "...             ...        ...  \n",
       "1423347  2017-04-01     1951.5  \n",
       "1423348  2017-04-01     1949.5  \n",
       "1423349  2017-04-01     1956.5  \n",
       "1423350  2017-04-01     1961.5  \n",
       "1423351  2017-04-01     1954.5  \n",
       "\n",
       "[376952 rows x 9 columns]"
      ]
     },
     "execution_count": 87,
     "metadata": {},
     "output_type": "execute_result"
    }
   ],
   "source": [
    "da"
   ]
  },
  {
   "cell_type": "code",
   "execution_count": 96,
   "metadata": {},
   "outputs": [],
   "source": [
    "#Sort by date and names\n",
    "da = da.sort_values(['Name','Date'])"
   ]
  },
  {
   "cell_type": "code",
   "execution_count": null,
   "metadata": {},
   "outputs": [
    {
     "name": "stderr",
     "output_type": "stream",
     "text": [
      "C:\\Users\\tvaino\\Anaconda3\\lib\\site-packages\\pandas\\core\\indexing.py:671: SettingWithCopyWarning: \n",
      "A value is trying to be set on a copy of a slice from a DataFrame\n",
      "\n",
      "See the caveats in the documentation: https://pandas.pydata.org/pandas-docs/stable/user_guide/indexing.html#returning-a-view-versus-a-copy\n",
      "  self._setitem_with_indexer(indexer, value)\n"
     ]
    }
   ],
   "source": [
    "da['PersonID'] = 0\n",
    "da['PreviousComps'] = 0\n",
    "p_id = 0\n",
    "last_name = \"\"\n",
    "last_birth_year = 0\n",
    "last_sex = 2\n",
    "competition_rate = 0\n",
    "\n",
    "for i in range(len(da)):\n",
    "    row = da.iloc[i]\n",
    "    new_name = row['Name']\n",
    "    new_birth_year = row['BirthYear']\n",
    "    new_sex = row['Sex']\n",
    "    if new_name == last_name:\n",
    "        if new_sex == last_sex and abs(new_birth_year-last_birth_year)<=1:\n",
    "            #print(new_name)\n",
    "            competition_rate += 1\n",
    "            da['PersonID'].iloc[i] = p_id\n",
    "            da['PreviousComps'].iloc[i] = competition_rate\n",
    "        else:\n",
    "            competition_rate = 1\n",
    "            last_name = new_name\n",
    "            last_birth_year = new_birth_year\n",
    "            last_sex = new_sex\n",
    "            p_id+=1\n",
    "            da['PersonID'].iloc[i] = p_id\n",
    "            da['PreviousComps'].iloc[i] = competition_rate\n",
    "    else:\n",
    "        competition_rate = 1\n",
    "        last_name = new_name\n",
    "        last_birth_year = new_birth_year\n",
    "        last_sex = new_sex\n",
    "        p_id+=1\n",
    "        da['PersonID'].iloc[i] = p_id\n",
    "        da['PreviousComps'].iloc[i] = competition_rate\n",
    "da.head(50)\n",
    "        \n",
    "    "
   ]
  },
  {
   "cell_type": "code",
   "execution_count": null,
   "metadata": {},
   "outputs": [],
   "source": [
    "for i in range (len(da)): \n",
    "    da.index = i"
   ]
  },
  {
   "cell_type": "code",
   "execution_count": null,
   "metadata": {},
   "outputs": [],
   "source": [
    "# Remove \n",
    "da = da[['PreviousComps', 'Sex', 'Event', 'Equipment', 'Age', 'Wilks', 'Tested', 'Date']]"
   ]
  },
  {
   "cell_type": "code",
   "execution_count": null,
   "metadata": {},
   "outputs": [],
   "source": [
    "# Splitting data into test and train data set\n"
   ]
  },
  {
   "cell_type": "code",
   "execution_count": null,
   "metadata": {},
   "outputs": [],
   "source": [
    "# Saving clean data to file\n",
    "da_test.to_csv(r'data/test_data.csv')\n",
    "da_train.to_csv(r'data/train_data.csv')"
   ]
  }
 ],
 "metadata": {
  "kernelspec": {
   "display_name": "Python 3",
   "language": "python",
   "name": "python3"
  },
  "language_info": {
   "codemirror_mode": {
    "name": "ipython",
    "version": 3
   },
   "file_extension": ".py",
   "mimetype": "text/x-python",
   "name": "python",
   "nbconvert_exporter": "python",
   "pygments_lexer": "ipython3",
   "version": "3.8.3"
  }
 },
 "nbformat": 4,
 "nbformat_minor": 4
}
