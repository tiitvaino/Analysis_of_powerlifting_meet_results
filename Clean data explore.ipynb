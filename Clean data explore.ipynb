{
 "cells": [
  {
   "cell_type": "code",
   "execution_count": 1,
   "metadata": {},
   "outputs": [],
   "source": [
    "import numpy as np\n",
    "import pandas as pd\n",
    "import datetime\n",
    "from sklearn.utils import shuffle\n",
    "import matplotlib.pyplot as plt\n",
    "%matplotlib inline"
   ]
  },
  {
   "cell_type": "code",
   "execution_count": 2,
   "metadata": {},
   "outputs": [],
   "source": [
    "df1 = pd.read_csv(\"Data/train_data.csv\")\n",
    "df2 = pd.read_csv(\"Data/test_data.csv\")\n",
    "df = pd.concat([df1,df2])"
   ]
  },
  {
   "cell_type": "code",
   "execution_count": 3,
   "metadata": {},
   "outputs": [],
   "source": [
    "def plot_normalized_numerical_data(data_column, title, bin_size):\n",
    "    minlength = min(data_column.values)\n",
    "    maxlength = max(data_column.values)\n",
    "    bins = int((maxlength - minlength)/bin_size)+1\n",
    "    differences =pd.to_numeric(data_column, errors='coerce')\n",
    "    plt.title(title)\n",
    "    differences.hist(bins=bins, weights = np.ones(len(data_column))/(len(data_column)*bin_size))"
   ]
  },
  {
   "cell_type": "markdown",
   "metadata": {},
   "source": [
    "# Let's look into data"
   ]
  },
  {
   "cell_type": "code",
   "execution_count": 4,
   "metadata": {},
   "outputs": [
    {
     "name": "stdout",
     "output_type": "stream",
     "text": [
      "We have  365385  data rows\n"
     ]
    }
   ],
   "source": [
    "print(\"We have \",len(df), \" data rows\")"
   ]
  },
  {
   "cell_type": "markdown",
   "metadata": {},
   "source": [
    "Info about columns:"
   ]
  },
  {
   "cell_type": "code",
   "execution_count": 5,
   "metadata": {},
   "outputs": [
    {
     "name": "stdout",
     "output_type": "stream",
     "text": [
      "We have  13  columns:  ['Unnamed: 0' 'PreviousComps' 'Sex' 'Equipment' 'Age' 'Wilks' 'Tested'\n",
      " 'Year' 'Month' 'Day' 'Weekday' 'BodyweightKg' 'WilksRangeCat']\n"
     ]
    }
   ],
   "source": [
    "print(\"We have \",len(df.columns),\" columns: \",df.columns.values)"
   ]
  },
  {
   "cell_type": "markdown",
   "metadata": {},
   "source": [
    "Info how much experience people have according to previous competition"
   ]
  },
  {
   "cell_type": "code",
   "execution_count": 18,
   "metadata": {},
   "outputs": [
    {
     "name": "stdout",
     "output_type": "stream",
     "text": [
      "count    365385.000000\n",
      "mean          4.897782\n",
      "std           7.005123\n",
      "min           1.000000\n",
      "25%           1.000000\n",
      "50%           2.000000\n",
      "75%           6.000000\n",
      "max         139.000000\n",
      "Name: PreviousComps, dtype: float64\n"
     ]
    },
    {
     "data": {
      "image/png": "[encoded data removed]",
      "text/plain": [
       "<Figure size 432x288 with 1 Axes>"
      ]
     },
     "metadata": {
      "needs_background": "light"
     },
     "output_type": "display_data"
    }
   ],
   "source": [
    "pd.to_numeric(df['PreviousComps'], errors='coerce').hist(bins=139)\n",
    "print(df.PreviousComps.describe())"
   ]
  },
  {
   "cell_type": "code",
   "execution_count": 7,
   "metadata": {},
   "outputs": [
    {
     "name": "stdout",
     "output_type": "stream",
     "text": [
      "count     365385\n",
      "unique         2\n",
      "top            M\n",
      "freq      254452\n",
      "Name: Sex, dtype: object\n"
     ]
    },
    {
     "data": {
      "image/png": "[encoded data removed]",
      "text/plain": [
       "<Figure size 432x288 with 1 Axes>"
      ]
     },
     "metadata": {
      "needs_background": "light"
     },
     "output_type": "display_data"
    }
   ],
   "source": [
    "df['Sex'] = df['Sex'].replace(0,'M')\n",
    "df['Sex'] = df['Sex'].replace(1,'F')\n",
    "df.Sex.value_counts().plot(kind=\"bar\", title=\"Sex\")\n",
    "print(df.Sex.describe())"
   ]
  },
  {
   "cell_type": "code",
   "execution_count": 8,
   "metadata": {},
   "outputs": [
    {
     "name": "stdout",
     "output_type": "stream",
     "text": [
      "count     365385\n",
      "unique         2\n",
      "top          Raw\n",
      "freq      205805\n",
      "Name: Equipment, dtype: object\n"
     ]
    },
    {
     "data": {
      "image/png": "[encoded data removed]",
      "text/plain": [
       "<Figure size 432x288 with 1 Axes>"
      ]
     },
     "metadata": {
      "needs_background": "light"
     },
     "output_type": "display_data"
    }
   ],
   "source": [
    "df['Equipment'] = df['Equipment'].replace(0,'Raw') # Without extra equipment\n",
    "df['Equipment'] = df['Equipment'].replace(1,'Single-ply')# With special uniform\n",
    "df.Equipment.value_counts().plot(kind=\"bar\", title=\"Equipment\")\n",
    "print(df.Equipment.describe())"
   ]
  },
  {
   "cell_type": "code",
   "execution_count": 9,
   "metadata": {},
   "outputs": [
    {
     "name": "stdout",
     "output_type": "stream",
     "text": [
      "count    365385.000000\n",
      "mean         29.430291\n",
      "std          12.231289\n",
      "min          15.000000\n",
      "25%          20.500000\n",
      "50%          25.500000\n",
      "75%          36.000000\n",
      "max          95.500000\n",
      "Name: Age, dtype: float64\n"
     ]
    },
    {
     "data": {
      "image/png": "[encoded data removed]",
      "text/plain": [
       "<Figure size 432x288 with 1 Axes>"
      ]
     },
     "metadata": {
      "needs_background": "light"
     },
     "output_type": "display_data"
    }
   ],
   "source": [
    "plot_normalized_numerical_data(df['Age'], \"Age\", 1)\n",
    "print(df.Age.describe())"
   ]
  },
  {
   "cell_type": "code",
   "execution_count": 10,
   "metadata": {},
   "outputs": [
    {
     "name": "stdout",
     "output_type": "stream",
     "text": [
      "count    365385.000000\n",
      "mean        371.844212\n",
      "std          81.691400\n",
      "min          37.290000\n",
      "25%         315.780000\n",
      "50%         367.680000\n",
      "75%         424.460000\n",
      "max         691.800000\n",
      "Name: Wilks, dtype: float64\n"
     ]
    },
    {
     "data": {
      "image/png": "[encoded data removed]",
      "text/plain": [
       "<Figure size 432x288 with 1 Axes>"
      ]
     },
     "metadata": {
      "needs_background": "light"
     },
     "output_type": "display_data"
    }
   ],
   "source": [
    "plot_normalized_numerical_data(df['Wilks'], \"Wilks\", 1)\n",
    "print(df.Wilks.describe())"
   ]
  },
  {
   "cell_type": "code",
   "execution_count": 11,
   "metadata": {},
   "outputs": [
    {
     "name": "stdout",
     "output_type": "stream",
     "text": [
      "count     365385\n",
      "unique         2\n",
      "top          Yes\n",
      "freq      302603\n",
      "Name: Tested, dtype: object\n"
     ]
    },
    {
     "data": {
      "image/png": "[encoded data removed]",
      "text/plain": [
       "<Figure size 432x288 with 1 Axes>"
      ]
     },
     "metadata": {
      "needs_background": "light"
     },
     "output_type": "display_data"
    }
   ],
   "source": [
    "df['Tested'] = df['Tested'].replace(0,'No') # In given competition there were no testing\n",
    "df['Tested'] = df['Tested'].replace(1,'Yes')#  In given competition there were testing\n",
    "df.Tested.value_counts().plot(kind=\"bar\", title=\"Tested\")\n",
    "print(df.Tested.describe())"
   ]
  },
  {
   "cell_type": "code",
   "execution_count": 12,
   "metadata": {},
   "outputs": [
    {
     "name": "stdout",
     "output_type": "stream",
     "text": [
      "count    365385.000000\n",
      "mean         14.711849\n",
      "std           8.638300\n",
      "min           1.000000\n",
      "25%           7.000000\n",
      "50%          14.000000\n",
      "75%          22.000000\n",
      "max          31.000000\n",
      "Name: Day, dtype: float64\n"
     ]
    },
    {
     "data": {
      "image/png": "[encoded data removed]",
      "text/plain": [
       "<Figure size 432x288 with 1 Axes>"
      ]
     },
     "metadata": {
      "needs_background": "light"
     },
     "output_type": "display_data"
    }
   ],
   "source": [
    "df.Day.value_counts(normalize=True, sort=False).plot(kind=\"bar\", title=\"Day\" )\n",
    "print(df.Day.describe())"
   ]
  },
  {
   "cell_type": "code",
   "execution_count": 13,
   "metadata": {},
   "outputs": [
    {
     "name": "stdout",
     "output_type": "stream",
     "text": [
      "count    365385.000000\n",
      "mean          6.185413\n",
      "std           3.490404\n",
      "min           1.000000\n",
      "25%           3.000000\n",
      "50%           6.000000\n",
      "75%          10.000000\n",
      "max          12.000000\n",
      "Name: Month, dtype: float64\n"
     ]
    },
    {
     "data": {
      "image/png": "[encoded data removed]",
      "text/plain": [
       "<Figure size 432x288 with 1 Axes>"
      ]
     },
     "metadata": {
      "needs_background": "light"
     },
     "output_type": "display_data"
    }
   ],
   "source": [
    "df.Month.value_counts(normalize=True, sort=False).plot(kind=\"bar\", title=\"Month\" )\n",
    "print(df.Month.describe())"
   ]
  },
  {
   "cell_type": "code",
   "execution_count": 14,
   "metadata": {},
   "outputs": [
    {
     "name": "stdout",
     "output_type": "stream",
     "text": [
      "count    365385.000000\n",
      "mean       2012.178349\n",
      "std           7.621047\n",
      "min        1965.000000\n",
      "25%        2010.000000\n",
      "50%        2015.000000\n",
      "75%        2017.000000\n",
      "max        2019.000000\n",
      "Name: Year, dtype: float64\n"
     ]
    },
    {
     "data": {
      "image/png": "[encoded data removed]",
      "text/plain": [
       "<Figure size 432x288 with 1 Axes>"
      ]
     },
     "metadata": {
      "needs_background": "light"
     },
     "output_type": "display_data"
    }
   ],
   "source": [
    "plot_normalized_numerical_data(df['Year'], \"Year\", 1)\n",
    "print(df.Year.describe())"
   ]
  },
  {
   "cell_type": "code",
   "execution_count": 15,
   "metadata": {},
   "outputs": [
    {
     "name": "stdout",
     "output_type": "stream",
     "text": [
      "count    365385.000000\n",
      "mean          4.265917\n",
      "std           1.528779\n",
      "min           0.000000\n",
      "25%           4.000000\n",
      "50%           5.000000\n",
      "75%           5.000000\n",
      "max           6.000000\n",
      "Name: Weekday, dtype: float64\n"
     ]
    },
    {
     "data": {
      "image/png": "[encoded data removed]",
      "text/plain": [
       "<Figure size 432x288 with 1 Axes>"
      ]
     },
     "metadata": {
      "needs_background": "light"
     },
     "output_type": "display_data"
    }
   ],
   "source": [
    "df.Weekday.value_counts(normalize=True, sort=False).plot(kind=\"bar\", title=\"Weekday\" )\n",
    "print(df.Weekday.describe())"
   ]
  },
  {
   "cell_type": "code",
   "execution_count": 16,
   "metadata": {},
   "outputs": [
    {
     "name": "stdout",
     "output_type": "stream",
     "text": [
      "count    365385.000000\n",
      "mean         82.834885\n",
      "std          22.030773\n",
      "min          24.950000\n",
      "25%          66.400000\n",
      "50%          81.100000\n",
      "75%          96.400000\n",
      "max         242.400000\n",
      "Name: BodyweightKg, dtype: float64\n"
     ]
    },
    {
     "data": {
      "image/png": "[encoded data removed]",
      "text/plain": [
       "<Figure size 432x288 with 1 Axes>"
      ]
     },
     "metadata": {
      "needs_background": "light"
     },
     "output_type": "display_data"
    }
   ],
   "source": [
    "plot_normalized_numerical_data(df['BodyweightKg'], \"BodyweightKg\", 1)\n",
    "print(df.BodyweightKg.describe())"
   ]
  },
  {
   "cell_type": "code",
   "execution_count": null,
   "metadata": {},
   "outputs": [],
   "source": []
  }
 ],
 "metadata": {
  "kernelspec": {
   "display_name": "Python 3",
   "language": "python",
   "name": "python3"
  },
  "language_info": {
   "codemirror_mode": {
    "name": "ipython",
    "version": 3
   },
   "file_extension": ".py",
   "mimetype": "text/x-python",
   "name": "python",
   "nbconvert_exporter": "python",
   "pygments_lexer": "ipython3",
   "version": "3.8.3"
  }
 },
 "nbformat": 4,
 "nbformat_minor": 4
}
