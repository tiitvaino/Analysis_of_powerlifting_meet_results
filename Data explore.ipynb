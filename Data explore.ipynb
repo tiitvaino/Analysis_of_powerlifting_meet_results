{
 "cells": [
  {
   "cell_type": "code",
   "execution_count": 1,
   "metadata": {},
   "outputs": [
    {
     "name": "stderr",
     "output_type": "stream",
     "text": [
      "C:\\Users\\tvaino\\Anaconda3\\lib\\site-packages\\IPython\\core\\interactiveshell.py:3071: DtypeWarning: Columns (35) have mixed types.Specify dtype option on import or set low_memory=False.\n",
      "  has_raised = await self.run_ast_nodes(code_ast.body, cell_name,\n"
     ]
    }
   ],
   "source": [
    "import numpy as np\n",
    "import pandas as pd\n",
    "%matplotlib inline\n",
    "\n",
    "df = pd.read_csv(\"Data/openpowerlifting.csv\")"
   ]
  },
  {
   "cell_type": "code",
   "execution_count": 2,
   "metadata": {},
   "outputs": [
    {
     "data": {
      "text/html": [
       "<div>\n",
       "<style scoped>\n",
       "    .dataframe tbody tr th:only-of-type {\n",
       "        vertical-align: middle;\n",
       "    }\n",
       "\n",
       "    .dataframe tbody tr th {\n",
       "        vertical-align: top;\n",
       "    }\n",
       "\n",
       "    .dataframe thead th {\n",
       "        text-align: right;\n",
       "    }\n",
       "</style>\n",
       "<table border=\"1\" class=\"dataframe\">\n",
       "  <thead>\n",
       "    <tr style=\"text-align: right;\">\n",
       "      <th></th>\n",
       "      <th>Name</th>\n",
       "      <th>Sex</th>\n",
       "      <th>Event</th>\n",
       "      <th>Equipment</th>\n",
       "      <th>Age</th>\n",
       "      <th>AgeClass</th>\n",
       "      <th>Division</th>\n",
       "      <th>BodyweightKg</th>\n",
       "      <th>WeightClassKg</th>\n",
       "      <th>Squat1Kg</th>\n",
       "      <th>...</th>\n",
       "      <th>McCulloch</th>\n",
       "      <th>Glossbrenner</th>\n",
       "      <th>IPFPoints</th>\n",
       "      <th>Tested</th>\n",
       "      <th>Country</th>\n",
       "      <th>Federation</th>\n",
       "      <th>Date</th>\n",
       "      <th>MeetCountry</th>\n",
       "      <th>MeetState</th>\n",
       "      <th>MeetName</th>\n",
       "    </tr>\n",
       "  </thead>\n",
       "  <tbody>\n",
       "    <tr>\n",
       "      <th>0</th>\n",
       "      <td>Abbie Murphy</td>\n",
       "      <td>F</td>\n",
       "      <td>SBD</td>\n",
       "      <td>Wraps</td>\n",
       "      <td>29.0</td>\n",
       "      <td>24-34</td>\n",
       "      <td>F-OR</td>\n",
       "      <td>59.8</td>\n",
       "      <td>60</td>\n",
       "      <td>80.0</td>\n",
       "      <td>...</td>\n",
       "      <td>324.16</td>\n",
       "      <td>286.42</td>\n",
       "      <td>511.15</td>\n",
       "      <td>NaN</td>\n",
       "      <td>NaN</td>\n",
       "      <td>GPC-AUS</td>\n",
       "      <td>2018-10-27</td>\n",
       "      <td>Australia</td>\n",
       "      <td>VIC</td>\n",
       "      <td>Melbourne Cup</td>\n",
       "    </tr>\n",
       "    <tr>\n",
       "      <th>1</th>\n",
       "      <td>Abbie Tuong</td>\n",
       "      <td>F</td>\n",
       "      <td>SBD</td>\n",
       "      <td>Wraps</td>\n",
       "      <td>29.0</td>\n",
       "      <td>24-34</td>\n",
       "      <td>F-OR</td>\n",
       "      <td>58.5</td>\n",
       "      <td>60</td>\n",
       "      <td>100.0</td>\n",
       "      <td>...</td>\n",
       "      <td>378.07</td>\n",
       "      <td>334.16</td>\n",
       "      <td>595.65</td>\n",
       "      <td>NaN</td>\n",
       "      <td>NaN</td>\n",
       "      <td>GPC-AUS</td>\n",
       "      <td>2018-10-27</td>\n",
       "      <td>Australia</td>\n",
       "      <td>VIC</td>\n",
       "      <td>Melbourne Cup</td>\n",
       "    </tr>\n",
       "    <tr>\n",
       "      <th>2</th>\n",
       "      <td>Ainslee Hooper</td>\n",
       "      <td>F</td>\n",
       "      <td>B</td>\n",
       "      <td>Raw</td>\n",
       "      <td>40.0</td>\n",
       "      <td>40-44</td>\n",
       "      <td>F-OR</td>\n",
       "      <td>55.4</td>\n",
       "      <td>56</td>\n",
       "      <td>NaN</td>\n",
       "      <td>...</td>\n",
       "      <td>38.56</td>\n",
       "      <td>34.12</td>\n",
       "      <td>313.97</td>\n",
       "      <td>NaN</td>\n",
       "      <td>NaN</td>\n",
       "      <td>GPC-AUS</td>\n",
       "      <td>2018-10-27</td>\n",
       "      <td>Australia</td>\n",
       "      <td>VIC</td>\n",
       "      <td>Melbourne Cup</td>\n",
       "    </tr>\n",
       "    <tr>\n",
       "      <th>3</th>\n",
       "      <td>Amy Moldenhauer</td>\n",
       "      <td>F</td>\n",
       "      <td>SBD</td>\n",
       "      <td>Wraps</td>\n",
       "      <td>23.0</td>\n",
       "      <td>20-23</td>\n",
       "      <td>F-OR</td>\n",
       "      <td>60.0</td>\n",
       "      <td>60</td>\n",
       "      <td>-105.0</td>\n",
       "      <td>...</td>\n",
       "      <td>345.61</td>\n",
       "      <td>305.37</td>\n",
       "      <td>547.04</td>\n",
       "      <td>NaN</td>\n",
       "      <td>NaN</td>\n",
       "      <td>GPC-AUS</td>\n",
       "      <td>2018-10-27</td>\n",
       "      <td>Australia</td>\n",
       "      <td>VIC</td>\n",
       "      <td>Melbourne Cup</td>\n",
       "    </tr>\n",
       "    <tr>\n",
       "      <th>4</th>\n",
       "      <td>Andrea Rowan</td>\n",
       "      <td>F</td>\n",
       "      <td>SBD</td>\n",
       "      <td>Wraps</td>\n",
       "      <td>45.0</td>\n",
       "      <td>45-49</td>\n",
       "      <td>F-OR</td>\n",
       "      <td>104.0</td>\n",
       "      <td>110</td>\n",
       "      <td>120.0</td>\n",
       "      <td>...</td>\n",
       "      <td>338.91</td>\n",
       "      <td>274.56</td>\n",
       "      <td>550.08</td>\n",
       "      <td>NaN</td>\n",
       "      <td>NaN</td>\n",
       "      <td>GPC-AUS</td>\n",
       "      <td>2018-10-27</td>\n",
       "      <td>Australia</td>\n",
       "      <td>VIC</td>\n",
       "      <td>Melbourne Cup</td>\n",
       "    </tr>\n",
       "  </tbody>\n",
       "</table>\n",
       "<p>5 rows × 37 columns</p>\n",
       "</div>"
      ],
      "text/plain": [
       "              Name Sex Event Equipment   Age AgeClass Division  BodyweightKg  \\\n",
       "0     Abbie Murphy   F   SBD     Wraps  29.0    24-34     F-OR          59.8   \n",
       "1      Abbie Tuong   F   SBD     Wraps  29.0    24-34     F-OR          58.5   \n",
       "2   Ainslee Hooper   F     B       Raw  40.0    40-44     F-OR          55.4   \n",
       "3  Amy Moldenhauer   F   SBD     Wraps  23.0    20-23     F-OR          60.0   \n",
       "4     Andrea Rowan   F   SBD     Wraps  45.0    45-49     F-OR         104.0   \n",
       "\n",
       "  WeightClassKg  Squat1Kg  ...  McCulloch  Glossbrenner  IPFPoints  Tested  \\\n",
       "0            60      80.0  ...     324.16        286.42     511.15     NaN   \n",
       "1            60     100.0  ...     378.07        334.16     595.65     NaN   \n",
       "2            56       NaN  ...      38.56         34.12     313.97     NaN   \n",
       "3            60    -105.0  ...     345.61        305.37     547.04     NaN   \n",
       "4           110     120.0  ...     338.91        274.56     550.08     NaN   \n",
       "\n",
       "   Country  Federation        Date  MeetCountry  MeetState       MeetName  \n",
       "0      NaN     GPC-AUS  2018-10-27    Australia        VIC  Melbourne Cup  \n",
       "1      NaN     GPC-AUS  2018-10-27    Australia        VIC  Melbourne Cup  \n",
       "2      NaN     GPC-AUS  2018-10-27    Australia        VIC  Melbourne Cup  \n",
       "3      NaN     GPC-AUS  2018-10-27    Australia        VIC  Melbourne Cup  \n",
       "4      NaN     GPC-AUS  2018-10-27    Australia        VIC  Melbourne Cup  \n",
       "\n",
       "[5 rows x 37 columns]"
      ]
     },
     "execution_count": 2,
     "metadata": {},
     "output_type": "execute_result"
    }
   ],
   "source": [
    "df.head()"
   ]
  },
  {
   "cell_type": "code",
   "execution_count": 3,
   "metadata": {},
   "outputs": [
    {
     "name": "stdout",
     "output_type": "stream",
     "text": [
      "Shape: (1423354, 37)\n"
     ]
    },
    {
     "data": {
      "text/plain": [
       "Index(['Name', 'Sex', 'Event', 'Equipment', 'Age', 'AgeClass', 'Division',\n",
       "       'BodyweightKg', 'WeightClassKg', 'Squat1Kg', 'Squat2Kg', 'Squat3Kg',\n",
       "       'Squat4Kg', 'Best3SquatKg', 'Bench1Kg', 'Bench2Kg', 'Bench3Kg',\n",
       "       'Bench4Kg', 'Best3BenchKg', 'Deadlift1Kg', 'Deadlift2Kg', 'Deadlift3Kg',\n",
       "       'Deadlift4Kg', 'Best3DeadliftKg', 'TotalKg', 'Place', 'Wilks',\n",
       "       'McCulloch', 'Glossbrenner', 'IPFPoints', 'Tested', 'Country',\n",
       "       'Federation', 'Date', 'MeetCountry', 'MeetState', 'MeetName'],\n",
       "      dtype='object')"
      ]
     },
     "execution_count": 3,
     "metadata": {},
     "output_type": "execute_result"
    }
   ],
   "source": [
    "print(\"Shape:\", df.shape)\n",
    "df.columns"
   ]
  },
  {
   "cell_type": "code",
   "execution_count": 4,
   "metadata": {},
   "outputs": [
    {
     "name": "stdout",
     "output_type": "stream",
     "text": [
      "412574\n",
      "1423354\n"
     ]
    }
   ],
   "source": [
    "#Name\n",
    "print(len(df.Name.unique()))\n",
    "print(len(df))# inimeste nimesid saab kasutada palju käinud on (nimed korduvad vb ja inimese tulemused ei pruugi ajas paraneda)\n",
    "# evenetist ja divisionist sõltub vb mis klassist sportlased on\n",
    "# date ja age annavad sünni aasta"
   ]
  },
  {
   "cell_type": "code",
   "execution_count": 5,
   "metadata": {},
   "outputs": [
    {
     "name": "stdout",
     "output_type": "stream",
     "text": [
      "M    1060189\n",
      "F     363165\n",
      "Name: Sex, dtype: int64\n"
     ]
    }
   ],
   "source": [
    "#Sex\n",
    "print((df.Sex.value_counts()))"
   ]
  },
  {
   "cell_type": "code",
   "execution_count": 6,
   "metadata": {},
   "outputs": [
    {
     "data": {
      "text/plain": [
       "<matplotlib.axes._subplots.AxesSubplot at 0x22f0092bd90>"
      ]
     },
     "execution_count": 6,
     "metadata": {},
     "output_type": "execute_result"
    },
    {
     "data": {
      "image/png": "[encoded data removed]",
      "text/plain": [
       "<Figure size 432x288 with 1 Axes>"
      ]
     },
     "metadata": {
      "needs_background": "light"
     },
     "output_type": "display_data"
    }
   ],
   "source": [
    "#Event\n",
    "df.Event.value_counts().plot(kind=\"bar\")"
   ]
  },
  {
   "cell_type": "code",
   "execution_count": 7,
   "metadata": {},
   "outputs": [
    {
     "name": "stdout",
     "output_type": "stream",
     "text": [
      "5367\n",
      "1964-09-05\n",
      "2019-04-20\n"
     ]
    }
   ],
   "source": [
    "#Date\n",
    "print(len(df.Date.unique()))\n",
    "print(df.Date.sort_values().min())\n",
    "print(df.Date.sort_values().max())"
   ]
  },
  {
   "cell_type": "code",
   "execution_count": 8,
   "metadata": {},
   "outputs": [
    {
     "data": {
      "text/plain": [
       "<matplotlib.axes._subplots.AxesSubplot at 0x22f00c0cdc0>"
      ]
     },
     "execution_count": 8,
     "metadata": {},
     "output_type": "execute_result"
    },
    {
     "data": {
      "image/png": "[encoded data removed]",
      "text/plain": [
       "<Figure size 432x288 with 1 Axes>"
      ]
     },
     "metadata": {
      "needs_background": "light"
     },
     "output_type": "display_data"
    }
   ],
   "source": [
    "#Equipment\n",
    "df.Equipment.value_counts().plot(kind=\"bar\")"
   ]
  },
  {
   "cell_type": "code",
   "execution_count": 9,
   "metadata": {},
   "outputs": [
    {
     "name": "stdout",
     "output_type": "stream",
     "text": [
      "count    757527.000000\n",
      "mean         31.501570\n",
      "std          13.371707\n",
      "min           0.000000\n",
      "25%          21.000000\n",
      "50%          28.000000\n",
      "75%          40.000000\n",
      "max          97.000000\n",
      "Name: Age, dtype: float64\n"
     ]
    },
    {
     "data": {
      "image/png": "[encoded data removed]",
      "text/plain": [
       "<Figure size 432x288 with 1 Axes>"
      ]
     },
     "metadata": {
      "needs_background": "light"
     },
     "output_type": "display_data"
    }
   ],
   "source": [
    "#Age\n",
    "pd.to_numeric(df['Age'], errors='coerce').hist(bins=40)\n",
    "print(df.Age.describe())"
   ]
  },
  {
   "cell_type": "code",
   "execution_count": 10,
   "metadata": {},
   "outputs": [
    {
     "data": {
      "text/plain": [
       "Open                    337927\n",
       "Boys                    280232\n",
       "Girls                   118968\n",
       "Juniors                  50408\n",
       "MR-O                     29618\n",
       "                         ...  \n",
       "M-C                       1045\n",
       "Pro Submasters 33-39      1036\n",
       "Pro Masters 45-49         1023\n",
       "M 45-49                   1008\n",
       "Class 1A                  1004\n",
       "Name: Division, Length: 104, dtype: int64"
      ]
     },
     "execution_count": 10,
     "metadata": {},
     "output_type": "execute_result"
    }
   ],
   "source": [
    "#Division\n",
    "division = df.Division.value_counts()\n",
    "big_boys=division[division>1000]\n",
    "big_boys"
   ]
  },
  {
   "cell_type": "code",
   "execution_count": 11,
   "metadata": {},
   "outputs": [
    {
     "data": {
      "text/plain": [
       "<matplotlib.axes._subplots.AxesSubplot at 0x22f01606bb0>"
      ]
     },
     "execution_count": 11,
     "metadata": {},
     "output_type": "execute_result"
    },
    {
     "data": {
      "image/png": "[encoded data removed]",
      "text/plain": [
       "<Figure size 432x288 with 1 Axes>"
      ]
     },
     "metadata": {
      "needs_background": "light"
     },
     "output_type": "display_data"
    }
   ],
   "source": [
    "pd.to_numeric(df['BodyweightKg'], errors='coerce').hist(bins=40)"
   ]
  },
  {
   "cell_type": "code",
   "execution_count": 12,
   "metadata": {},
   "outputs": [
    {
     "data": {
      "text/plain": [
       "<matplotlib.axes._subplots.AxesSubplot at 0x22f0170f730>"
      ]
     },
     "execution_count": 12,
     "metadata": {},
     "output_type": "execute_result"
    },
    {
     "data": {
      "image/png": "[encoded data removed]",
      "text/plain": [
       "<Figure size 432x288 with 1 Axes>"
      ]
     },
     "metadata": {
      "needs_background": "light"
     },
     "output_type": "display_data"
    }
   ],
   "source": [
    "pd.to_numeric(df['Best3SquatKg'], errors='coerce').hist(bins=40)"
   ]
  },
  {
   "cell_type": "code",
   "execution_count": 13,
   "metadata": {},
   "outputs": [
    {
     "data": {
      "text/plain": [
       "<matplotlib.axes._subplots.AxesSubplot at 0x22f0259ebb0>"
      ]
     },
     "execution_count": 13,
     "metadata": {},
     "output_type": "execute_result"
    },
    {
     "data": {
      "image/png": "[encoded data removed]",
      "text/plain": [
       "<Figure size 432x288 with 1 Axes>"
      ]
     },
     "metadata": {
      "needs_background": "light"
     },
     "output_type": "display_data"
    }
   ],
   "source": [
    "pd.to_numeric(df['Best3BenchKg'], errors='coerce').hist(bins=40)"
   ]
  },
  {
   "cell_type": "code",
   "execution_count": 14,
   "metadata": {},
   "outputs": [
    {
     "data": {
      "text/plain": [
       "<matplotlib.axes._subplots.AxesSubplot at 0x22f01597e50>"
      ]
     },
     "execution_count": 14,
     "metadata": {},
     "output_type": "execute_result"
    },
    {
     "data": {
      "image/png": "[encoded data removed]",
      "text/plain": [
       "<Figure size 432x288 with 1 Axes>"
      ]
     },
     "metadata": {
      "needs_background": "light"
     },
     "output_type": "display_data"
    }
   ],
   "source": [
    "pd.to_numeric(df['Best3DeadliftKg'], errors='coerce').hist(bins=40)"
   ]
  },
  {
   "cell_type": "code",
   "execution_count": 15,
   "metadata": {},
   "outputs": [
    {
     "data": {
      "text/plain": [
       "<matplotlib.axes._subplots.AxesSubplot at 0x22f00c15ca0>"
      ]
     },
     "execution_count": 15,
     "metadata": {},
     "output_type": "execute_result"
    },
    {
     "data": {
      "image/png": "[encoded data removed]",
      "text/plain": [
       "<Figure size 432x288 with 1 Axes>"
      ]
     },
     "metadata": {
      "needs_background": "light"
     },
     "output_type": "display_data"
    }
   ],
   "source": [
    "pd.to_numeric(df['TotalKg'], errors='coerce').hist(bins=40)"
   ]
  },
  {
   "cell_type": "code",
   "execution_count": 16,
   "metadata": {},
   "outputs": [
    {
     "data": {
      "text/plain": [
       "<matplotlib.axes._subplots.AxesSubplot at 0x22f02727550>"
      ]
     },
     "execution_count": 16,
     "metadata": {},
     "output_type": "execute_result"
    },
    {
     "data": {
      "image/png": "[encoded data removed]",
      "text/plain": [
       "<Figure size 432x288 with 1 Axes>"
      ]
     },
     "metadata": {
      "needs_background": "light"
     },
     "output_type": "display_data"
    }
   ],
   "source": [
    "pd.to_numeric(df['Wilks'], errors='coerce').hist(bins=40)"
   ]
  },
  {
   "cell_type": "code",
   "execution_count": 17,
   "metadata": {},
   "outputs": [
    {
     "data": {
      "text/plain": [
       "<matplotlib.axes._subplots.AxesSubplot at 0x22f02810bb0>"
      ]
     },
     "execution_count": 17,
     "metadata": {},
     "output_type": "execute_result"
    },
    {
     "data": {
      "image/png": "[encoded data removed]",
      "text/plain": [
       "<Figure size 432x288 with 1 Axes>"
      ]
     },
     "metadata": {},
     "output_type": "display_data"
    }
   ],
   "source": [
    "df.MeetCountry.value_counts().plot(kind=\"pie\")"
   ]
  },
  {
   "cell_type": "code",
   "execution_count": 18,
   "metadata": {},
   "outputs": [
    {
     "name": "stdout",
     "output_type": "stream",
     "text": [
      "Describe\n",
      "Name: \n",
      "count        1423354\n",
      "unique        412574\n",
      "top       Alan Aerts\n",
      "freq             214\n",
      "Name: Name, dtype: object\n",
      "\n",
      "Sex: \n",
      "count     1423354\n",
      "unique          2\n",
      "top             M\n",
      "freq      1060189\n",
      "Name: Sex, dtype: object\n",
      "\n",
      "Event: \n",
      "count     1423354\n",
      "unique          7\n",
      "top           SBD\n",
      "freq      1073237\n",
      "Name: Event, dtype: object\n",
      "\n",
      "Equipment: \n",
      "count        1423354\n",
      "unique             5\n",
      "top       Single-ply\n",
      "freq          787141\n",
      "Name: Equipment, dtype: object\n",
      "\n",
      "Age: \n",
      "count    757527.000000\n",
      "mean         31.501570\n",
      "std          13.371707\n",
      "min           0.000000\n",
      "25%          21.000000\n",
      "50%          28.000000\n",
      "75%          40.000000\n",
      "max          97.000000\n",
      "Name: Age, dtype: float64\n",
      "\n",
      "AgeClass: \n",
      "count     786800\n",
      "unique        16\n",
      "top        24-34\n",
      "freq      244197\n",
      "Name: AgeClass, dtype: object\n",
      "\n",
      "Division: \n",
      "count     1415176\n",
      "unique       4842\n",
      "top          Open\n",
      "freq       337927\n",
      "Name: Division, dtype: object\n",
      "\n",
      "BodyweightKg: \n",
      "count    1.406622e+06\n",
      "mean     8.422503e+01\n",
      "std      2.322011e+01\n",
      "min      1.510000e+01\n",
      "25%      6.670000e+01\n",
      "50%      8.180000e+01\n",
      "75%      9.915000e+01\n",
      "max      2.580000e+02\n",
      "Name: BodyweightKg, dtype: float64\n",
      "\n",
      "WeightClassKg: \n",
      "count     1410042\n",
      "unique        224\n",
      "top            90\n",
      "freq       103156\n",
      "Name: WeightClassKg, dtype: object\n",
      "\n",
      "Squat1Kg: \n",
      "count    337580.000000\n",
      "mean        114.102442\n",
      "std         147.143021\n",
      "min        -555.000000\n",
      "25%          90.000000\n",
      "50%         147.500000\n",
      "75%         200.000000\n",
      "max         555.000000\n",
      "Name: Squat1Kg, dtype: float64\n",
      "\n",
      "Squat2Kg: \n",
      "count    333349.000000\n",
      "mean         92.155846\n",
      "std         173.701524\n",
      "min        -580.000000\n",
      "25%          68.000000\n",
      "50%         145.000000\n",
      "75%         205.000000\n",
      "max         566.990000\n",
      "Name: Squat2Kg, dtype: float64\n",
      "\n",
      "Squat3Kg: \n",
      "count    323842.000000\n",
      "mean         30.056842\n",
      "std         200.413385\n",
      "min        -600.500000\n",
      "25%        -167.500000\n",
      "50%         110.000000\n",
      "75%         192.500000\n",
      "max         560.000000\n",
      "Name: Squat3Kg, dtype: float64\n",
      "\n",
      "Squat4Kg: \n",
      "count    3696.000000\n",
      "mean       71.356870\n",
      "std       194.522045\n",
      "min      -550.000000\n",
      "25%      -107.840000\n",
      "50%       135.000000\n",
      "75%       205.000000\n",
      "max       505.500000\n",
      "Name: Squat4Kg, dtype: float64\n",
      "\n",
      "Best3SquatKg: \n",
      "count    1.031450e+06\n",
      "mean     1.740049e+02\n",
      "std      6.923931e+01\n",
      "min     -4.775000e+02\n",
      "25%      1.224700e+02\n",
      "50%      1.678300e+02\n",
      "75%      2.175000e+02\n",
      "max      5.750000e+02\n",
      "Name: Best3SquatKg, dtype: float64\n",
      "\n",
      "Bench1Kg: \n",
      "count    499779.000000\n",
      "mean         83.892373\n",
      "std         105.196350\n",
      "min        -480.000000\n",
      "25%          57.500000\n",
      "50%         105.000000\n",
      "75%         145.000000\n",
      "max         467.500000\n",
      "Name: Bench1Kg, dtype: float64\n",
      "\n",
      "Bench2Kg: \n",
      "count    493486.000000\n",
      "mean         55.065745\n",
      "std         130.302229\n",
      "min        -507.500000\n",
      "25%         -52.500000\n",
      "50%          95.000000\n",
      "75%         145.000000\n",
      "max         487.500000\n",
      "Name: Bench2Kg, dtype: float64\n",
      "\n",
      "Bench3Kg: \n",
      "count    478485.000000\n",
      "mean        -18.520481\n",
      "std         144.225726\n",
      "min        -575.000000\n",
      "25%        -140.000000\n",
      "50%         -60.000000\n",
      "75%         117.500000\n",
      "max         478.540000\n",
      "Name: Bench3Kg, dtype: float64\n",
      "\n",
      "Bench4Kg: \n",
      "count    9505.000000\n",
      "mean       24.845638\n",
      "std       165.628325\n",
      "min      -500.000000\n",
      "25%      -127.500000\n",
      "50%        77.500000\n",
      "75%       157.500000\n",
      "max       487.610000\n",
      "Name: Bench4Kg, dtype: float64\n",
      "\n",
      "Best3BenchKg: \n",
      "count    1.276181e+06\n",
      "mean     1.165444e+02\n",
      "std      5.483622e+01\n",
      "min     -5.225000e+02\n",
      "25%      7.484000e+01\n",
      "50%      1.111300e+02\n",
      "75%      1.500000e+02\n",
      "max      4.885000e+02\n",
      "Name: Best3BenchKg, dtype: float64\n",
      "\n",
      "Deadlift1Kg: \n",
      "count    363544.000000\n",
      "mean        162.700840\n",
      "std         108.681438\n",
      "min        -461.000000\n",
      "25%         125.000000\n",
      "50%         180.000000\n",
      "75%         226.800000\n",
      "max         450.000000\n",
      "Name: Deadlift1Kg, dtype: float64\n",
      "\n",
      "Deadlift2Kg: \n",
      "count    356023.000000\n",
      "mean        130.228378\n",
      "std         162.680134\n",
      "min        -470.000000\n",
      "25%         115.000000\n",
      "50%         177.500000\n",
      "75%         230.000000\n",
      "max         460.400000\n",
      "Name: Deadlift2Kg, dtype: float64\n",
      "\n",
      "Deadlift3Kg: \n",
      "count    339947.000000\n",
      "mean         12.995484\n",
      "std         215.052488\n",
      "min        -587.500000\n",
      "25%        -210.000000\n",
      "50%         117.500000\n",
      "75%         205.000000\n",
      "max         457.500000\n",
      "Name: Deadlift3Kg, dtype: float64\n",
      "\n",
      "Deadlift4Kg: \n",
      "count    9246.000000\n",
      "mean       78.914945\n",
      "std       192.605159\n",
      "min      -461.000000\n",
      "25%      -110.000000\n",
      "50%       145.150000\n",
      "75%       210.000000\n",
      "max       418.000000\n",
      "Name: Deadlift4Kg, dtype: float64\n",
      "\n",
      "Best3DeadliftKg: \n",
      "count    1.081808e+06\n",
      "mean     1.872585e+02\n",
      "std      6.232821e+01\n",
      "min     -4.100000e+02\n",
      "25%      1.383500e+02\n",
      "50%      1.850000e+02\n",
      "75%      2.300000e+02\n",
      "max      5.850000e+02\n",
      "Name: Best3DeadliftKg, dtype: float64\n",
      "\n",
      "TotalKg: \n",
      "count    1.313184e+06\n",
      "mean     3.956148e+02\n",
      "std      2.011420e+02\n",
      "min      2.500000e+00\n",
      "25%      2.325000e+02\n",
      "50%      3.787500e+02\n",
      "75%      5.400000e+02\n",
      "max      1.367500e+03\n",
      "Name: TotalKg, dtype: float64\n",
      "\n",
      "Place: \n",
      "count     1423354\n",
      "unique        124\n",
      "top             1\n",
      "freq       541908\n",
      "Name: Place, dtype: object\n",
      "\n",
      "Wilks: \n",
      "count    1.304407e+06\n",
      "mean     2.882247e+02\n",
      "std      1.231805e+02\n",
      "min      1.470000e+00\n",
      "25%      1.979000e+02\n",
      "50%      3.052000e+02\n",
      "75%      3.745600e+02\n",
      "max      7.793800e+02\n",
      "Name: Wilks, dtype: float64\n",
      "\n",
      "McCulloch: \n",
      "count    1.304254e+06\n",
      "mean     2.960682e+02\n",
      "std      1.249700e+02\n",
      "min      1.470000e+00\n",
      "25%      2.048200e+02\n",
      "50%      3.120300e+02\n",
      "75%      3.837600e+02\n",
      "max      8.044000e+02\n",
      "Name: McCulloch, dtype: float64\n",
      "\n",
      "Glossbrenner: \n",
      "count    1.304407e+06\n",
      "mean     2.718484e+02\n",
      "std      1.175571e+02\n",
      "min      1.410000e+00\n",
      "25%      1.828100e+02\n",
      "50%      2.859400e+02\n",
      "75%      3.552800e+02\n",
      "max      7.429600e+02\n",
      "Name: Glossbrenner, dtype: float64\n",
      "\n",
      "IPFPoints: \n",
      "count    1.273286e+06\n",
      "mean     4.854330e+02\n",
      "std      1.133489e+02\n",
      "min      2.160000e+00\n",
      "25%      4.028600e+02\n",
      "50%      4.780500e+02\n",
      "75%      5.597000e+02\n",
      "max      1.245930e+03\n",
      "Name: IPFPoints, dtype: float64\n",
      "\n",
      "Tested: \n",
      "count     1093892\n",
      "unique          1\n",
      "top           Yes\n",
      "freq      1093892\n",
      "Name: Tested, dtype: object\n",
      "\n",
      "Country: \n",
      "count     388884\n",
      "unique       176\n",
      "top          USA\n",
      "freq       91333\n",
      "Name: Country, dtype: object\n",
      "\n",
      "Federation: \n",
      "count     1423354\n",
      "unique        222\n",
      "top         THSPA\n",
      "freq       290547\n",
      "Name: Federation, dtype: object\n",
      "\n",
      "Date: \n",
      "count        1423354\n",
      "unique          5367\n",
      "top       2017-02-18\n",
      "freq            7001\n",
      "Name: Date, dtype: object\n",
      "\n",
      "MeetCountry: \n",
      "count     1423354\n",
      "unique         96\n",
      "top           USA\n",
      "freq       856561\n",
      "Name: MeetCountry, dtype: object\n",
      "\n",
      "MeetState: \n",
      "count     941545\n",
      "unique       111\n",
      "top           TX\n",
      "freq      448753\n",
      "Name: MeetState, dtype: object\n",
      "\n",
      "MeetName: \n",
      "count                 1423354\n",
      "unique                  11599\n",
      "top       World Championships\n",
      "freq                    32615\n",
      "Name: MeetName, dtype: object\n",
      "\n"
     ]
    }
   ],
   "source": [
    "print(\"Describe\")\n",
    "for i in df.columns:\n",
    "    print(str(i)+\": \\n\" + str(df[i].describe()) + \"\\n\")"
   ]
  },
  {
   "cell_type": "code",
   "execution_count": 19,
   "metadata": {},
   "outputs": [
    {
     "data": {
      "text/plain": [
       "Yes    1093892\n",
       "Name: Tested, dtype: int64"
      ]
     },
     "execution_count": 19,
     "metadata": {},
     "output_type": "execute_result"
    }
   ],
   "source": [
    "df['Tested'].dropna().value_counts()"
   ]
  }
 ],
 "metadata": {
  "kernelspec": {
   "display_name": "Python 3",
   "language": "python",
   "name": "python3"
  },
  "language_info": {
   "codemirror_mode": {
    "name": "ipython",
    "version": 3
   },
   "file_extension": ".py",
   "mimetype": "text/x-python",
   "name": "python",
   "nbconvert_exporter": "python",
   "pygments_lexer": "ipython3",
   "version": "3.8.3"
  }
 },
 "nbformat": 4,
 "nbformat_minor": 4
}
